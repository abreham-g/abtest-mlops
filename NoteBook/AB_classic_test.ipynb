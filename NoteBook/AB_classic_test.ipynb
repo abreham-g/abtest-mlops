{
 "cells": [
  {
   "cell_type": "markdown",
   "id": "66cb3070",
   "metadata": {},
   "source": [
    "### Importing libraries"
   ]
  },
  {
   "cell_type": "code",
   "execution_count": 19,
   "id": "d3fda850",
   "metadata": {},
   "outputs": [],
   "source": [
    "import pandas as pd\n",
    "import seaborn as sb\n",
    "import matplotlib.pyplot as plt\n",
    "import numpy as np\n",
    "%matplotlib inline\n",
    "from sklearn import preprocessing\n",
    "from itertools import islice\n",
    "import seaborn as sns\n",
    "from scipy.stats import binom\n",
    "from scipy.stats import norm\n",
    "import statsmodels.stats.api as sms"
   ]
  },
  {
   "cell_type": "code",
   "execution_count": 36,
   "id": "75720fcc",
   "metadata": {},
   "outputs": [],
   "source": [
    "import warnings\n",
    "warnings.filterwarnings('ignore')"
   ]
  },
  {
   "cell_type": "markdown",
   "id": "d63e060b",
   "metadata": {},
   "source": [
    "### Dataset"
   ]
  },
  {
   "cell_type": "code",
   "execution_count": 37,
   "id": "d769b1f3",
   "metadata": {},
   "outputs": [],
   "source": [
    "data_frame = pd.read_csv(\"../Data/AdSmartABdata.csv\")"
   ]
  },
  {
   "cell_type": "code",
   "execution_count": 38,
   "id": "b757c648",
   "metadata": {},
   "outputs": [
    {
     "data": {
      "text/html": [
       "<div>\n",
       "<style scoped>\n",
       "    .dataframe tbody tr th:only-of-type {\n",
       "        vertical-align: middle;\n",
       "    }\n",
       "\n",
       "    .dataframe tbody tr th {\n",
       "        vertical-align: top;\n",
       "    }\n",
       "\n",
       "    .dataframe thead th {\n",
       "        text-align: right;\n",
       "    }\n",
       "</style>\n",
       "<table border=\"1\" class=\"dataframe\">\n",
       "  <thead>\n",
       "    <tr style=\"text-align: right;\">\n",
       "      <th></th>\n",
       "      <th>auction_id</th>\n",
       "      <th>experiment</th>\n",
       "      <th>date</th>\n",
       "      <th>hour</th>\n",
       "      <th>device_make</th>\n",
       "      <th>platform_os</th>\n",
       "      <th>browser</th>\n",
       "      <th>yes</th>\n",
       "      <th>no</th>\n",
       "    </tr>\n",
       "  </thead>\n",
       "  <tbody>\n",
       "    <tr>\n",
       "      <th>0</th>\n",
       "      <td>0008ef63-77a7-448b-bd1e-075f42c55e39</td>\n",
       "      <td>exposed</td>\n",
       "      <td>2020-07-10</td>\n",
       "      <td>8</td>\n",
       "      <td>Generic Smartphone</td>\n",
       "      <td>6</td>\n",
       "      <td>Chrome Mobile</td>\n",
       "      <td>0</td>\n",
       "      <td>0</td>\n",
       "    </tr>\n",
       "    <tr>\n",
       "      <th>1</th>\n",
       "      <td>000eabc5-17ce-4137-8efe-44734d914446</td>\n",
       "      <td>exposed</td>\n",
       "      <td>2020-07-07</td>\n",
       "      <td>10</td>\n",
       "      <td>Generic Smartphone</td>\n",
       "      <td>6</td>\n",
       "      <td>Chrome Mobile</td>\n",
       "      <td>0</td>\n",
       "      <td>0</td>\n",
       "    </tr>\n",
       "    <tr>\n",
       "      <th>2</th>\n",
       "      <td>0016d14a-ae18-4a02-a204-6ba53b52f2ed</td>\n",
       "      <td>exposed</td>\n",
       "      <td>2020-07-05</td>\n",
       "      <td>2</td>\n",
       "      <td>E5823</td>\n",
       "      <td>6</td>\n",
       "      <td>Chrome Mobile WebView</td>\n",
       "      <td>0</td>\n",
       "      <td>1</td>\n",
       "    </tr>\n",
       "    <tr>\n",
       "      <th>3</th>\n",
       "      <td>00187412-2932-4542-a8ef-3633901c98d9</td>\n",
       "      <td>control</td>\n",
       "      <td>2020-07-03</td>\n",
       "      <td>15</td>\n",
       "      <td>Samsung SM-A705FN</td>\n",
       "      <td>6</td>\n",
       "      <td>Facebook</td>\n",
       "      <td>0</td>\n",
       "      <td>0</td>\n",
       "    </tr>\n",
       "    <tr>\n",
       "      <th>4</th>\n",
       "      <td>001a7785-d3fe-4e11-a344-c8735acacc2c</td>\n",
       "      <td>control</td>\n",
       "      <td>2020-07-03</td>\n",
       "      <td>15</td>\n",
       "      <td>Generic Smartphone</td>\n",
       "      <td>6</td>\n",
       "      <td>Chrome Mobile</td>\n",
       "      <td>0</td>\n",
       "      <td>0</td>\n",
       "    </tr>\n",
       "  </tbody>\n",
       "</table>\n",
       "</div>"
      ],
      "text/plain": [
       "                             auction_id experiment        date  hour  \\\n",
       "0  0008ef63-77a7-448b-bd1e-075f42c55e39    exposed  2020-07-10     8   \n",
       "1  000eabc5-17ce-4137-8efe-44734d914446    exposed  2020-07-07    10   \n",
       "2  0016d14a-ae18-4a02-a204-6ba53b52f2ed    exposed  2020-07-05     2   \n",
       "3  00187412-2932-4542-a8ef-3633901c98d9    control  2020-07-03    15   \n",
       "4  001a7785-d3fe-4e11-a344-c8735acacc2c    control  2020-07-03    15   \n",
       "\n",
       "          device_make  platform_os                browser  yes  no  \n",
       "0  Generic Smartphone            6          Chrome Mobile    0   0  \n",
       "1  Generic Smartphone            6          Chrome Mobile    0   0  \n",
       "2               E5823            6  Chrome Mobile WebView    0   1  \n",
       "3   Samsung SM-A705FN            6               Facebook    0   0  \n",
       "4  Generic Smartphone            6          Chrome Mobile    0   0  "
      ]
     },
     "execution_count": 38,
     "metadata": {},
     "output_type": "execute_result"
    }
   ],
   "source": [
    "data_frame.head()"
   ]
  },
  {
   "cell_type": "code",
   "execution_count": 39,
   "id": "734f8a81",
   "metadata": {},
   "outputs": [
    {
     "name": "stdout",
     "output_type": "stream",
     "text": [
      "<class 'pandas.core.frame.DataFrame'>\n",
      "RangeIndex: 8077 entries, 0 to 8076\n",
      "Data columns (total 9 columns):\n",
      " #   Column       Non-Null Count  Dtype \n",
      "---  ------       --------------  ----- \n",
      " 0   auction_id   8077 non-null   object\n",
      " 1   experiment   8077 non-null   object\n",
      " 2   date         8077 non-null   object\n",
      " 3   hour         8077 non-null   int64 \n",
      " 4   device_make  8077 non-null   object\n",
      " 5   platform_os  8077 non-null   int64 \n",
      " 6   browser      8077 non-null   object\n",
      " 7   yes          8077 non-null   int64 \n",
      " 8   no           8077 non-null   int64 \n",
      "dtypes: int64(4), object(5)\n",
      "memory usage: 568.0+ KB\n"
     ]
    }
   ],
   "source": [
    "data_frame.info()"
   ]
  },
  {
   "cell_type": "markdown",
   "id": "96c7b4c7",
   "metadata": {},
   "source": [
    "### cleaning the Data"
   ]
  },
  {
   "cell_type": "markdown",
   "id": "60def789",
   "metadata": {},
   "source": [
    "Below We will clean the 6 variables because our target variable is Experiment variable."
   ]
  },
  {
   "cell_type": "code",
   "execution_count": 87,
   "id": "d153bd6f",
   "metadata": {},
   "outputs": [],
   "source": [
    "clean_Ad_data = data_frame.drop(['auction_id', 'date', 'hour', 'device_make', 'platform_os', 'browser'], axis=1)"
   ]
  },
  {
   "cell_type": "code",
   "execution_count": 88,
   "id": "a41d6945",
   "metadata": {},
   "outputs": [
    {
     "data": {
      "text/html": [
       "<div>\n",
       "<style scoped>\n",
       "    .dataframe tbody tr th:only-of-type {\n",
       "        vertical-align: middle;\n",
       "    }\n",
       "\n",
       "    .dataframe tbody tr th {\n",
       "        vertical-align: top;\n",
       "    }\n",
       "\n",
       "    .dataframe thead th {\n",
       "        text-align: right;\n",
       "    }\n",
       "</style>\n",
       "<table border=\"1\" class=\"dataframe\">\n",
       "  <thead>\n",
       "    <tr style=\"text-align: right;\">\n",
       "      <th></th>\n",
       "      <th>experiment</th>\n",
       "      <th>yes</th>\n",
       "      <th>no</th>\n",
       "      <th>aware</th>\n",
       "    </tr>\n",
       "  </thead>\n",
       "  <tbody>\n",
       "    <tr>\n",
       "      <th>2</th>\n",
       "      <td>exposed</td>\n",
       "      <td>0</td>\n",
       "      <td>1</td>\n",
       "      <td>0</td>\n",
       "    </tr>\n",
       "    <tr>\n",
       "      <th>16</th>\n",
       "      <td>exposed</td>\n",
       "      <td>1</td>\n",
       "      <td>0</td>\n",
       "      <td>1</td>\n",
       "    </tr>\n",
       "    <tr>\n",
       "      <th>20</th>\n",
       "      <td>exposed</td>\n",
       "      <td>0</td>\n",
       "      <td>1</td>\n",
       "      <td>0</td>\n",
       "    </tr>\n",
       "    <tr>\n",
       "      <th>23</th>\n",
       "      <td>control</td>\n",
       "      <td>1</td>\n",
       "      <td>0</td>\n",
       "      <td>1</td>\n",
       "    </tr>\n",
       "    <tr>\n",
       "      <th>27</th>\n",
       "      <td>control</td>\n",
       "      <td>0</td>\n",
       "      <td>1</td>\n",
       "      <td>0</td>\n",
       "    </tr>\n",
       "    <tr>\n",
       "      <th>...</th>\n",
       "      <td>...</td>\n",
       "      <td>...</td>\n",
       "      <td>...</td>\n",
       "      <td>...</td>\n",
       "    </tr>\n",
       "    <tr>\n",
       "      <th>8059</th>\n",
       "      <td>exposed</td>\n",
       "      <td>1</td>\n",
       "      <td>0</td>\n",
       "      <td>1</td>\n",
       "    </tr>\n",
       "    <tr>\n",
       "      <th>8063</th>\n",
       "      <td>exposed</td>\n",
       "      <td>1</td>\n",
       "      <td>0</td>\n",
       "      <td>1</td>\n",
       "    </tr>\n",
       "    <tr>\n",
       "      <th>8064</th>\n",
       "      <td>control</td>\n",
       "      <td>0</td>\n",
       "      <td>1</td>\n",
       "      <td>0</td>\n",
       "    </tr>\n",
       "    <tr>\n",
       "      <th>8069</th>\n",
       "      <td>control</td>\n",
       "      <td>0</td>\n",
       "      <td>1</td>\n",
       "      <td>0</td>\n",
       "    </tr>\n",
       "    <tr>\n",
       "      <th>8071</th>\n",
       "      <td>exposed</td>\n",
       "      <td>0</td>\n",
       "      <td>1</td>\n",
       "      <td>0</td>\n",
       "    </tr>\n",
       "  </tbody>\n",
       "</table>\n",
       "<p>1243 rows × 4 columns</p>\n",
       "</div>"
      ],
      "text/plain": [
       "     experiment  yes  no  aware\n",
       "2       exposed    0   1      0\n",
       "16      exposed    1   0      1\n",
       "20      exposed    0   1      0\n",
       "23      control    1   0      1\n",
       "27      control    0   1      0\n",
       "...         ...  ...  ..    ...\n",
       "8059    exposed    1   0      1\n",
       "8063    exposed    1   0      1\n",
       "8064    control    0   1      0\n",
       "8069    control    0   1      0\n",
       "8071    exposed    0   1      0\n",
       "\n",
       "[1243 rows x 4 columns]"
      ]
     },
     "execution_count": 88,
     "metadata": {},
     "output_type": "execute_result"
    }
   ],
   "source": [
    "clean_Ad_data = clean_Ad_data[(clean_Ad_data['yes'] != 0) | clean_Ad_data['no'] != 0]\n",
    "clean_Ad_data['aware'] = 0\n",
    "clean_Ad_data.loc[clean_Ad_data['yes'] == 1, 'aware'] = 1\n",
    "clean_Ad_data.loc[clean_Ad_data['yes'] == 0, 'aware'] = 0\n",
    "\n",
    "clean_Ad_data"
   ]
  },
  {
   "cell_type": "code",
   "execution_count": 89,
   "id": "40355d42",
   "metadata": {},
   "outputs": [
    {
     "data": {
      "text/html": [
       "<div>\n",
       "<style scoped>\n",
       "    .dataframe tbody tr th:only-of-type {\n",
       "        vertical-align: middle;\n",
       "    }\n",
       "\n",
       "    .dataframe tbody tr th {\n",
       "        vertical-align: top;\n",
       "    }\n",
       "\n",
       "    .dataframe thead th {\n",
       "        text-align: right;\n",
       "    }\n",
       "</style>\n",
       "<table border=\"1\" class=\"dataframe\">\n",
       "  <thead>\n",
       "    <tr style=\"text-align: right;\">\n",
       "      <th></th>\n",
       "      <th>aware</th>\n",
       "      <th>not aware</th>\n",
       "      <th>total</th>\n",
       "      <th>rate</th>\n",
       "    </tr>\n",
       "    <tr>\n",
       "      <th>experiment</th>\n",
       "      <th></th>\n",
       "      <th></th>\n",
       "      <th></th>\n",
       "      <th></th>\n",
       "    </tr>\n",
       "  </thead>\n",
       "  <tbody>\n",
       "    <tr>\n",
       "      <th>control</th>\n",
       "      <td>264</td>\n",
       "      <td>322</td>\n",
       "      <td>586</td>\n",
       "      <td>0.450512</td>\n",
       "    </tr>\n",
       "    <tr>\n",
       "      <th>exposed</th>\n",
       "      <td>308</td>\n",
       "      <td>349</td>\n",
       "      <td>657</td>\n",
       "      <td>0.468798</td>\n",
       "    </tr>\n",
       "  </tbody>\n",
       "</table>\n",
       "</div>"
      ],
      "text/plain": [
       "            aware  not aware  total      rate\n",
       "experiment                                   \n",
       "control       264        322    586  0.450512\n",
       "exposed       308        349    657  0.468798"
      ]
     },
     "execution_count": 89,
     "metadata": {},
     "output_type": "execute_result"
    }
   ],
   "source": [
    "ad_summary = clean_Ad_data.pivot_table(values='aware', index='experiment', aggfunc=np.sum)\n",
    "\n",
    "ad_summary['total'] = clean_Ad_data.pivot_table(values='aware', index='experiment', aggfunc=lambda x: len(x))\n",
    "ad_summary['not aware'] = ad_summary['total'] - ad_summary['aware']\n",
    "ad_summary['rate'] = clean_Ad_data.pivot_table(values='aware', index='experiment')\n",
    "ad_summary = ad_summary.reindex(['aware', 'not aware', 'total', 'rate'], axis=1)\n",
    "ad_summary"
   ]
  },
  {
   "cell_type": "markdown",
   "id": "616891cf",
   "metadata": {},
   "source": [
    "###  the above table descibe as difference in conversion rates between the two groups is 1.8%."
   ]
  },
  {
   "cell_type": "markdown",
   "id": "4c318fdf",
   "metadata": {},
   "source": [
    "from experiment column we will drop users that has not yes or no respond "
   ]
  },
  {
   "cell_type": "code",
   "execution_count": 115,
   "id": "717d5493",
   "metadata": {},
   "outputs": [],
   "source": [
    "drop_mask = data_frame.query('yes==0 and no==0')"
   ]
  },
  {
   "cell_type": "code",
   "execution_count": 116,
   "id": "9c8dc88d",
   "metadata": {},
   "outputs": [],
   "source": [
    "data_frame=data_frame.drop(drop_mask.index)"
   ]
  },
  {
   "cell_type": "code",
   "execution_count": 117,
   "id": "9f46347a",
   "metadata": {},
   "outputs": [],
   "source": [
    "class plots:\n",
    "    def count_plot(data_frame: pd.DataFrame, column: str) -> None:\n",
    "        plt.figure(figsize=(9, 7))\n",
    "        sns.countplot(data=data_frame, x=column)\n",
    "        plt.title(f'Plot count of {column}', size=20, fontweight='bold')\n",
    "        plt.show()"
   ]
  },
  {
   "cell_type": "code",
   "execution_count": 118,
   "id": "b40625dd",
   "metadata": {},
   "outputs": [
    {
     "data": {
      "image/png": "[encoded data removed]",
      "text/plain": [
       "<Figure size 648x504 with 1 Axes>"
      ]
     },
     "metadata": {
      "needs_background": "light"
     },
     "output_type": "display_data"
    }
   ],
   "source": [
    "plots.count_plot(data_frame, 'experiment')"
   ]
  },
  {
   "cell_type": "code",
   "execution_count": 119,
   "id": "d8859868",
   "metadata": {},
   "outputs": [
    {
     "data": {
      "text/plain": [
       "<matplotlib.legend.Legend at 0x12b79c8cc10>"
      ]
     },
     "execution_count": 119,
     "metadata": {},
     "output_type": "execute_result"
    },
    {
     "data": {
      "image/png": "[encoded data removed]",
      "text/plain": [
       "<Figure size 648x504 with 1 Axes>"
      ]
     },
     "metadata": {
      "needs_background": "light"
     },
     "output_type": "display_data"
    }
   ],
   "source": [
    "plt.figure(figsize=(9,7))\n",
    "ax=sns.countplot(x ='experiment', hue='yes', data = clean_Ad_data) \n",
    "\n",
    "ax.set_xlabel('Experiment', fontsize=15)\n",
    "ax.set_ylabel('Count' , fontsize=15)\n",
    "ax.set_title('Count of aware people per experiment group', fontsize=15, fontweight='bold')\n",
    "plt.legend( ['No', 'Yes'])"
   ]
  },
  {
   "cell_type": "code",
   "execution_count": 120,
   "id": "c753ef96",
   "metadata": {},
   "outputs": [
    {
     "data": {
      "text/plain": [
       "Text(0.5, 1.0, 'Top Browsers used')"
      ]
     },
     "execution_count": 120,
     "metadata": {},
     "output_type": "execute_result"
    },
    {
     "data": {
      "image/png": "[encoded data removed]",
      "text/plain": [
       "<Figure size 648x504 with 1 Axes>"
      ]
     },
     "metadata": {
      "needs_background": "light"
     },
     "output_type": "display_data"
    }
   ],
   "source": [
    "plt.figure(figsize=(9,7))\n",
    "ax= sns.countplot(x ='browser', data = data_frame) \n",
    "ax.set_xticklabels(ax.get_xticklabels(), rotation=60, ha=\"right\")\n",
    "plt.tight_layout()\n",
    "ax.set_xlabel('Browsers', fontsize=15)\n",
    "ax.set_ylabel('Count' , fontsize=15)\n",
    "ax.set_title('Top Browsers used', fontsize=15, fontweight='bold')"
   ]
  },
  {
   "cell_type": "markdown",
   "id": "90bf87d9",
   "metadata": {},
   "source": [
    "### the above plot show most used Browser "
   ]
  },
  {
   "cell_type": "code",
   "execution_count": 136,
   "id": "5082f36a",
   "metadata": {},
   "outputs": [
    {
     "data": {
      "text/plain": [
       "Text(0.5, 1.0, 'Distribution of Hour')"
      ]
     },
     "execution_count": 136,
     "metadata": {},
     "output_type": "execute_result"
    },
    {
     "data": {
      "image/png": "[encoded data removed]",
      "text/plain": [
       "<Figure size 648x504 with 1 Axes>"
      ]
     },
     "metadata": {
      "needs_background": "light"
     },
     "output_type": "display_data"
    }
   ],
   "source": [
    "plt.figure(figsize=(9,7))\n",
    "#top_5_device= data_frame['device_make'].value_counts().nlargest(5)\n",
    "ax=sns.distplot(data_frame['hour'],bins=20) \n",
    "ax.set_xlabel('Hour', fontsize=15)\n",
    "ax.set_ylabel('Probability' , fontsize=15)\n",
    "plt.title('Distribution of Hour',fontsize=15,  fontweight='bold')"
   ]
  },
  {
   "cell_type": "markdown",
   "id": "545d90b9",
   "metadata": {},
   "source": [
    "###  The above plot shows Hours distribution. people use the internet (view the ad) throughout the day."
   ]
  },
  {
   "cell_type": "code",
   "execution_count": 122,
   "id": "8470232c",
   "metadata": {},
   "outputs": [
    {
     "name": "stdout",
     "output_type": "stream",
     "text": [
      "Converted Control: 264     Total Control: 586\n",
      "Converted Exposed: 308     Total Exposed: 657\n"
     ]
    }
   ],
   "source": [
    "exposed_yes = data_frame.query('experiment == \"exposed\"').yes\n",
    "exposed_count = len(exposed_yes)\n",
    "exposed_yes_count = exposed_yes.sum(axis=0)\n",
    "\n",
    "control_yes =  data_frame.query('experiment == \"control\"').yes\n",
    "control_count = len(control_yes)\n",
    "control_yes_count = control_yes.sum(axis=0)\n",
    "print('Converted Control:',control_yes_count,'    Total Control:',control_count)\n",
    "print('Converted Exposed:',exposed_yes_count,'    Total Exposed:',exposed_count)"
   ]
  },
  {
   "cell_type": "markdown",
   "id": "7b54f741",
   "metadata": {},
   "source": [
    "### The above out put show the Splited dataframe of the experiment groups.It contains The number of total people in each group."
   ]
  },
  {
   "cell_type": "code",
   "execution_count": 123,
   "id": "1b221c22",
   "metadata": {},
   "outputs": [
    {
     "name": "stdout",
     "output_type": "stream",
     "text": [
      "Required sample size:  38932  per group\n",
      "Required sample size:  38932  per group\n"
     ]
    }
   ],
   "source": [
    "\n",
    "baseline_rate = control_yes_count / control_count\n",
    "practical_significance = 0.01 \n",
    "confidence_level = 0.05 \n",
    "sensitivity = 0.8 \n",
    "\n",
    "effect_size = sms.proportion_effectsize(baseline_rate, baseline_rate + practical_significance)\n",
    "sample_size = sms.NormalIndPower().solve_power(effect_size = effect_size, power = sensitivity, \n",
    "                                               alpha = confidence_level, ratio=1)\n",
    "print(\"Required sample size: \", round(sample_size), \" per group\")\n",
    "\n",
    "baseline_rate = control_yes_count / control_count\n",
    "practical_significance = 0.01 \n",
    "confidence_level = 0.05 \n",
    "sensitivity = 0.8 \n",
    "\n",
    "effect_size = sms.proportion_effectsize(baseline_rate, baseline_rate + practical_significance)\n",
    "sample_size = sms.NormalIndPower().solve_power(effect_size = effect_size, power = sensitivity, \n",
    "                                               alpha = confidence_level, ratio=1)\n",
    "print(\"Required sample size: \", round(sample_size), \" per group\")"
   ]
  },
  {
   "cell_type": "markdown",
   "id": "c8a6c872",
   "metadata": {},
   "source": [
    "### As shown above, I have short required sample size . infact I have only 586 and 657 in each group"
   ]
  },
  {
   "cell_type": "code",
   "execution_count": 124,
   "id": "17a9c85b",
   "metadata": {},
   "outputs": [
    {
     "data": {
      "image/png": "[encoded data removed]",
      "text/plain": [
       "<Figure size 864x720 with 1 Axes>"
      ]
     },
     "metadata": {
      "needs_background": "light"
     },
     "output_type": "display_data"
    }
   ],
   "source": [
    "cv_rate_control, cv_rate_exposed = control_yes_count / control_count, exposed_yes_count / exposed_count\n",
    "range = np.arange(200, 360)\n",
    "cv_prob_control = binom(control_count, cv_rate_control).pmf(range)\n",
    "cv_prob_exposed = binom(exposed_count, cv_rate_exposed).pmf(range)\n",
    "fig, ax = plt.subplots(figsize=(12,10))\n",
    "plt.bar(range, cv_prob_control, label=\"Control\",color='green')\n",
    "plt.bar(range, cv_prob_exposed, label=\"Exposed\",color='gray')\n",
    "plt.legend()\n",
    "plt.xlabel(\"Conversions\"); plt.ylabel(\"Probability\");"
   ]
  },
  {
   "cell_type": "markdown",
   "id": "dd88313e",
   "metadata": {},
   "source": [
    "\n",
    "### Next we will Calculate standard deviations for each experiment group. This will help us change our binomial distribution to normal by using the central limit theorem(CLT). We can then calculate z-scores."
   ]
  },
  {
   "cell_type": "code",
   "execution_count": 125,
   "id": "41b09510",
   "metadata": {},
   "outputs": [],
   "source": [
    "std_dev_control = np.sqrt(cv_rate_control * (1 - cv_rate_control) / control_count)\n",
    "std_dev_exposed = np.sqrt(cv_rate_exposed * (1 - cv_rate_exposed) / exposed_count)"
   ]
  },
  {
   "cell_type": "code",
   "execution_count": 134,
   "id": "09d62995",
   "metadata": {},
   "outputs": [
    {
     "data": {
      "image/png": "[encoded data removed]",
      "text/plain": [
       "<Figure size 720x360 with 1 Axes>"
      ]
     },
     "metadata": {
      "needs_background": "light"
     },
     "output_type": "display_data"
    }
   ],
   "source": [
    "conversion_rate = np.linspace(0.3, 0.6, 1000)\n",
    "prob_a = norm(cv_rate_control, std_dev_control).pdf(conversion_rate)\n",
    "prob_b = norm(cv_rate_exposed, std_dev_exposed).pdf(conversion_rate)\n",
    "plt.figure(figsize=(10,5))\n",
    "\n",
    "plt.plot(conversion_rate, prob_a, label=\"Control\")\n",
    "\n",
    "plt.plot(conversion_rate, prob_b, label=\"Exposed\")\n",
    "\n",
    "plt.legend(frameon=False)\n",
    "plt.xlabel(\"Conversion rate\"); plt.ylabel(\"Probability\");"
   ]
  },
  {
   "cell_type": "markdown",
   "id": "ca2ff3c9",
   "metadata": {},
   "source": [
    "### Next we will Compute Z-Score"
   ]
  },
  {
   "cell_type": "code",
   "execution_count": 127,
   "id": "b9e4db08",
   "metadata": {},
   "outputs": [
    {
     "name": "stdout",
     "output_type": "stream",
     "text": [
      "zscore is 0.646, with p-value 0.259\n"
     ]
    },
    {
     "data": {
      "image/png": "[encoded data removed]",
      "text/plain": [
       "<Figure size 864x576 with 1 Axes>"
      ]
     },
     "metadata": {
      "needs_background": "light"
     },
     "output_type": "display_data"
    }
   ],
   "source": [
    "z_score = (cv_rate_exposed - cv_rate_control) / np.sqrt(std_dev_control**2 + std_dev_exposed**2)\n",
    "p = norm(cv_rate_exposed - cv_rate_control, np.sqrt(std_dev_control**2 + std_dev_exposed**2))\n",
    "\n",
    "x = np.linspace(-0.05, 0.15, 1000)\n",
    "y = p.pdf(x)\n",
    "area_under_curve = p.sf(0)\n",
    "plt.figure(figsize=(12,8))\n",
    "plt.plot(x, y, label=\"Density Function\")\n",
    "plt.fill_between(x, 0, y, where=x>0, label=\"Prob(b>a)\", alpha=0.3)\n",
    "plt.annotate(f\"Area={area_under_curve:0.3f}\", (0.02, 5))\n",
    "plt.legend()\n",
    "plt.xlabel(\"Difference in conversion rate\"); plt.ylabel(\"Prob\");\n",
    "\n",
    "print(f\"zscore is {z_score:0.3f}, with p-value {norm().sf(z_score):0.3f}\")"
   ]
  },
  {
   "cell_type": "markdown",
   "id": "42dffd59",
   "metadata": {},
   "source": [
    "###  We get 0.741 confidence interval.so What this telling is 74.1% of time the exposed group has same awareness with the control group and 25.1% of a time the exposed group has different awareness with the control group. From our A/B test we can see that even if we saw a rise in conversion rate in the exposed group for this particular experiment, it may be a result of random chance.we cannot conclude that the experiment group has more awareness.so our p-value is 0.259 which is less than 0.05."
   ]
  },
  {
   "cell_type": "markdown",
   "id": "684cead0",
   "metadata": {},
   "source": [
    "## we will accept the null hypothesis"
   ]
  },
  {
   "cell_type": "code",
   "execution_count": null,
   "id": "8a15492b",
   "metadata": {},
   "outputs": [],
   "source": []
  },
  {
   "cell_type": "code",
   "execution_count": null,
   "id": "b65e7331",
   "metadata": {},
   "outputs": [],
   "source": []
  }
 ],
 "metadata": {
  "kernelspec": {
   "display_name": "Python 3",
   "language": "python",
   "name": "python3"
  },
  "language_info": {
   "codemirror_mode": {
    "name": "ipython",
    "version": 3
   },
   "file_extension": ".py",
   "mimetype": "text/x-python",
   "name": "python",
   "nbconvert_exporter": "python",
   "pygments_lexer": "ipython3",
   "version": "3.9.1"
  }
 },
 "nbformat": 4,
 "nbformat_minor": 5
}
