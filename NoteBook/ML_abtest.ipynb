{
 "cells": [
  {
   "cell_type": "markdown",
   "id": "2d25b914",
   "metadata": {},
   "source": [
    "### Importing Libraries"
   ]
  },
  {
   "cell_type": "code",
   "execution_count": 36,
   "id": "0e494742",
   "metadata": {},
   "outputs": [],
   "source": [
    "# import libraries\n",
    "import pandas as pd\n",
    "import seaborn as sb\n",
    "import matplotlib.pyplot as plt\n",
    "import numpy as np\n",
    "%matplotlib inline\n",
    "from sklearn import preprocessing\n",
    "from itertools import islice\n",
    "import seaborn as sns\n",
    "from sklearn.model_selection import train_test_split\n",
    "from sklearn.model_selection import KFold\n",
    "import statsmodels.api as sm\n",
    "from sklearn.metrics import mean_squared_error, r2_score, mean_absolute_error\n"
   ]
  },
  {
   "cell_type": "code",
   "execution_count": 37,
   "id": "df65fc98",
   "metadata": {},
   "outputs": [],
   "source": [
    "from sklearn.linear_model import LogisticRegression\n",
    "from sklearn import metrics\n",
    "import scipy.stats as stat\n",
    "from sklearn.metrics import accuracy_score\n",
    "from sklearn.tree import DecisionTreeClassifier\n",
    "from xgboost import XGBClassifier\n",
    "from sklearn.preprocessing import StandardScaler\n",
    "from sklearn.model_selection import cross_val_score\n",
    "from sklearn.preprocessing import LabelEncoder\n",
    "from six import StringIO \n",
    "from IPython.display import Image  \n",
    "from sklearn.tree import export_graphviz\n",
    "from IPython.display import Image  \n",
    "from sklearn.metrics import accuracy_score\n",
    "from sklearn.tree import export_graphviz\n",
    "import pydotplus\n",
    "from sklearn import tree"
   ]
  },
  {
   "cell_type": "code",
   "execution_count": 7,
   "id": "aba90286",
   "metadata": {},
   "outputs": [],
   "source": [
    "import warnings\n",
    "warnings.filterwarnings('ignore')\n",
    "import dvc.api"
   ]
  },
  {
   "cell_type": "code",
   "execution_count": 38,
   "id": "7c03f456",
   "metadata": {},
   "outputs": [],
   "source": [
    "data_frame = pd.read_csv('../Data/ADSmartdata.csv')\n"
   ]
  },
  {
   "cell_type": "code",
   "execution_count": 39,
   "id": "972ac2bb",
   "metadata": {},
   "outputs": [],
   "source": [
    "drop_mask = data_frame.query('yes==0 and no==0') # drop columns where yes and no are both 0\n",
    "data_frame=data_frame.drop(drop_mask.index)"
   ]
  },
  {
   "cell_type": "code",
   "execution_count": 40,
   "id": "606b2921",
   "metadata": {},
   "outputs": [
    {
     "data": {
      "text/html": [
       "<div>\n",
       "<style scoped>\n",
       "    .dataframe tbody tr th:only-of-type {\n",
       "        vertical-align: middle;\n",
       "    }\n",
       "\n",
       "    .dataframe tbody tr th {\n",
       "        vertical-align: top;\n",
       "    }\n",
       "\n",
       "    .dataframe thead th {\n",
       "        text-align: right;\n",
       "    }\n",
       "</style>\n",
       "<table border=\"1\" class=\"dataframe\">\n",
       "  <thead>\n",
       "    <tr style=\"text-align: right;\">\n",
       "      <th></th>\n",
       "      <th>auction_id</th>\n",
       "      <th>experiment</th>\n",
       "      <th>date</th>\n",
       "      <th>hour</th>\n",
       "      <th>device_make</th>\n",
       "      <th>platform_os</th>\n",
       "      <th>browser</th>\n",
       "      <th>yes</th>\n",
       "      <th>no</th>\n",
       "    </tr>\n",
       "  </thead>\n",
       "  <tbody>\n",
       "    <tr>\n",
       "      <th>2</th>\n",
       "      <td>0016d14a-ae18-4a02-a204-6ba53b52f2ed</td>\n",
       "      <td>exposed</td>\n",
       "      <td>2020-07-05</td>\n",
       "      <td>2</td>\n",
       "      <td>E5823</td>\n",
       "      <td>6</td>\n",
       "      <td>Chrome Mobile WebView</td>\n",
       "      <td>0</td>\n",
       "      <td>1</td>\n",
       "    </tr>\n",
       "    <tr>\n",
       "      <th>16</th>\n",
       "      <td>008aafdf-deef-4482-8fec-d98e3da054da</td>\n",
       "      <td>exposed</td>\n",
       "      <td>2020-07-04</td>\n",
       "      <td>16</td>\n",
       "      <td>Generic Smartphone</td>\n",
       "      <td>6</td>\n",
       "      <td>Chrome Mobile</td>\n",
       "      <td>1</td>\n",
       "      <td>0</td>\n",
       "    </tr>\n",
       "    <tr>\n",
       "      <th>20</th>\n",
       "      <td>00a1384a-5118-4d1b-925b-6cdada50318d</td>\n",
       "      <td>exposed</td>\n",
       "      <td>2020-07-06</td>\n",
       "      <td>8</td>\n",
       "      <td>Generic Smartphone</td>\n",
       "      <td>6</td>\n",
       "      <td>Chrome Mobile</td>\n",
       "      <td>0</td>\n",
       "      <td>1</td>\n",
       "    </tr>\n",
       "    <tr>\n",
       "      <th>23</th>\n",
       "      <td>00b6fadb-10bd-49e3-a778-290da82f7a8d</td>\n",
       "      <td>control</td>\n",
       "      <td>2020-07-08</td>\n",
       "      <td>4</td>\n",
       "      <td>Samsung SM-A202F</td>\n",
       "      <td>6</td>\n",
       "      <td>Facebook</td>\n",
       "      <td>1</td>\n",
       "      <td>0</td>\n",
       "    </tr>\n",
       "    <tr>\n",
       "      <th>27</th>\n",
       "      <td>00ebf4a8-060f-4b99-93ac-c62724399483</td>\n",
       "      <td>control</td>\n",
       "      <td>2020-07-03</td>\n",
       "      <td>15</td>\n",
       "      <td>Generic Smartphone</td>\n",
       "      <td>6</td>\n",
       "      <td>Chrome Mobile</td>\n",
       "      <td>0</td>\n",
       "      <td>1</td>\n",
       "    </tr>\n",
       "  </tbody>\n",
       "</table>\n",
       "</div>"
      ],
      "text/plain": [
       "                              auction_id experiment        date  hour  \\\n",
       "2   0016d14a-ae18-4a02-a204-6ba53b52f2ed    exposed  2020-07-05     2   \n",
       "16  008aafdf-deef-4482-8fec-d98e3da054da    exposed  2020-07-04    16   \n",
       "20  00a1384a-5118-4d1b-925b-6cdada50318d    exposed  2020-07-06     8   \n",
       "23  00b6fadb-10bd-49e3-a778-290da82f7a8d    control  2020-07-08     4   \n",
       "27  00ebf4a8-060f-4b99-93ac-c62724399483    control  2020-07-03    15   \n",
       "\n",
       "           device_make  platform_os                browser  yes  no  \n",
       "2                E5823            6  Chrome Mobile WebView    0   1  \n",
       "16  Generic Smartphone            6          Chrome Mobile    1   0  \n",
       "20  Generic Smartphone            6          Chrome Mobile    0   1  \n",
       "23    Samsung SM-A202F            6               Facebook    1   0  \n",
       "27  Generic Smartphone            6          Chrome Mobile    0   1  "
      ]
     },
     "execution_count": 40,
     "metadata": {},
     "output_type": "execute_result"
    }
   ],
   "source": [
    "data_frame.head()"
   ]
  },
  {
   "cell_type": "code",
   "execution_count": 41,
   "id": "69d10829",
   "metadata": {},
   "outputs": [
    {
     "data": {
      "text/plain": [
       "auction_id     0\n",
       "experiment     0\n",
       "date           0\n",
       "hour           0\n",
       "device_make    0\n",
       "platform_os    0\n",
       "browser        0\n",
       "yes            0\n",
       "no             0\n",
       "dtype: int64"
      ]
     },
     "execution_count": 41,
     "metadata": {},
     "output_type": "execute_result"
    }
   ],
   "source": [
    "data_frame.isna().sum()"
   ]
  },
  {
   "cell_type": "code",
   "execution_count": 42,
   "id": "69ca71b5",
   "metadata": {},
   "outputs": [],
   "source": [
    "def drop_no_responds(df):\n",
    "    cleaned_df = data_frame.query(\"not (yes == 0 & no == 0)\")\n",
    "    return cleaned_df"
   ]
  },
  {
   "cell_type": "code",
   "execution_count": 43,
   "id": "6651af74",
   "metadata": {},
   "outputs": [],
   "source": [
    "cleaned_df = drop_no_responds(data_frame)\n",
    "cleaned_df['aware'] = cleaned_df['yes'].map(lambda x: x==1)\n",
    "cleaned_df = cleaned_df.drop(columns = ['yes', 'no', 'auction_id'], axis=1)"
   ]
  },
  {
   "cell_type": "markdown",
   "id": "81860de1",
   "metadata": {},
   "source": [
    "###  Spliting the data by browser and platform_os, and version each split as a new version of the data in dvc."
   ]
  },
  {
   "cell_type": "code",
   "execution_count": 44,
   "id": "db099beb",
   "metadata": {},
   "outputs": [],
   "source": [
    "broweser_df = cleaned_df[[\"experiment\", \"hour\", \"date\", 'device_make', 'browser', 'aware']]\n",
    "platfrom_df = cleaned_df[[\"experiment\", \"hour\", \"date\", 'device_make', 'platform_os', 'aware']]"
   ]
  },
  {
   "cell_type": "markdown",
   "id": "dfba7ef1",
   "metadata": {},
   "source": [
    "### Logestic regression"
   ]
  },
  {
   "cell_type": "code",
   "execution_count": 45,
   "id": "ef79c8a3",
   "metadata": {},
   "outputs": [],
   "source": [
    "# custom logistic regression wrapper that accepts a Linear Regressor and adds p-value calculator \n",
    "\n",
    "class LogisticReg:\n",
    "    def __init__(self,*args,**kwargs):#,**kwargs):\n",
    "        self.model = LogisticRegression(*args,**kwargs)#,**args)\n",
    "    \n",
    "\n",
    "    def fit(self,X,y):\n",
    "        self.model.fit(X,y)\n",
    "        denom = (2.0*(1.0+np.cosh(self.model.decision_function(X))))\n",
    "        denom = np.tile(denom,(X.shape[1],1)).T\n",
    "        F_ij = np.dot((X/denom).T,X) \n",
    "        Cramer_Rao = np.linalg.inv(F_ij) \n",
    "        sigma_estimates = np.sqrt(np.diagonal(Cramer_Rao))\n",
    "        z_scores = self.model.coef_[0]/sigma_estimates \n",
    "        p_values = [stat.norm.sf(abs(x)) for x in z_scores]\n",
    "        \n",
    "        self.z_scores = z_scores\n",
    "        self.p_values = p_values\n",
    "        self.sigma_estimates = sigma_estimates\n",
    "        self.F_ij = F_ij\n",
    "        return self.model,p_values"
   ]
  },
  {
   "cell_type": "code",
   "execution_count": null,
   "id": "4dbd3217",
   "metadata": {},
   "outputs": [],
   "source": []
  },
  {
   "cell_type": "code",
   "execution_count": 46,
   "id": "ec34f4e2",
   "metadata": {},
   "outputs": [],
   "source": [
    "# crate an awareness column to the dataframe\n",
    "def label_awareness (row):\n",
    "    if row['yes'] == 1 :\n",
    "         return '1'\n",
    "    if row['no'] == 1 :\n",
    "        return '0'\n",
    "def calculate_metrics(y_test, y_preds):\n",
    "    \n",
    "    accuracy = accuracy_score(y_test, y_preds)\n",
    "    return accuracy"
   ]
  },
  {
   "cell_type": "markdown",
   "id": "c2816c40",
   "metadata": {},
   "source": [
    "## Function for plotting confusion matrix"
   ]
  },
  {
   "cell_type": "code",
   "execution_count": 47,
   "id": "2a7b3b73",
   "metadata": {},
   "outputs": [],
   "source": [
    "# plot confusion metrics of a model. It accepts predictions and actual values for the target variable\n",
    "def draw_confusion_metrics(y_test, y_preds):\n",
    "    cnf_matrix = metrics.confusion_matrix(y_test, y_preds)\n",
    "    ax=sns.heatmap(pd.DataFrame(cnf_matrix), annot=True, cmap=\"YlGnBu\" ,fmt='g')\n",
    "    ax.xaxis.set_label_position(\"top\")\n",
    "    plt.tight_layout()\n",
    "    plt.title('Confusion matrix')\n",
    "    plt.ylabel('Actual')\n",
    "    plt.xlabel('Predicted')"
   ]
  },
  {
   "cell_type": "markdown",
   "id": "d116a0a1",
   "metadata": {},
   "source": [
    "## Function for getting the best parameters for a model"
   ]
  },
  {
   "cell_type": "code",
   "execution_count": 48,
   "id": "ddef2a18",
   "metadata": {},
   "outputs": [],
   "source": [
    "def get_best_model(classifier, params):\n",
    "    best_avg_score = 0\n",
    "    best_param = ''\n",
    "    best_model = None\n",
    "    fold_num=1\n",
    "    p_value = []\n",
    "    # create 5 folds\n",
    "    kf = KFold(n_splits = 5)\n",
    "    for param in params:\n",
    "        p_values = []\n",
    "        scores=[]\n",
    "        randomIter = kf.split(x_train)\n",
    "        i=0\n",
    "        while i<5:\n",
    "            train_idx, validation_idx = next(randomIter)\n",
    "            x_validation = x_train.iloc[validation_idx]\n",
    "            x_training = x_train.iloc[train_idx]\n",
    "            y_validation = y_train.iloc[validation_idx]\n",
    "            y_training = y_train.iloc[train_idx]\n",
    "            x_training_refined = x_training.drop(columns=['id','yes','no','date'], axis=1)\n",
    "            x_validation_refined = x_validation.drop(columns=['id','yes','no','date'], axis=1)\n",
    "            if(classifier == 'Decision Tree'):\n",
    "                clf = DecisionTreeClassifier(**param)\n",
    "            if(classifier == 'XGBoost'):\n",
    "                clf = XGBClassifier(**param)\n",
    "            if(classifier == 'Logistic'):\n",
    "                clf  = LogisticReg(solver = param)\n",
    "            \n",
    "            \n",
    "            if(classifier == 'Logistic'):\n",
    "                clf,p_values = clf.fit(x_training_refined.astype(float),y_training.astype(float))\n",
    "            else:\n",
    "                clf = clf.fit(x_training_refined.astype(float),y_training.astype(float))\n",
    "            y_preds = clf.predict(x_validation_refined)\n",
    "            score = accuracy_score(y_validation.astype(float), y_preds)\n",
    "            scores.append(score)\n",
    "            i+=1\n",
    "        avg = sum(scores)/len(scores)\n",
    "        print('Fold',fold_num,'average',avg)\n",
    "        if(avg>best_avg_score):\n",
    "            best_avg_score = avg\n",
    "            best_param = param\n",
    "            best_model = clf\n",
    "            p_value = p_values\n",
    "        fold_num+=1\n",
    "    \n",
    "    return best_model, best_param, best_avg_score,p_value\n"
   ]
  },
  {
   "cell_type": "code",
   "execution_count": 50,
   "id": "4322e388",
   "metadata": {},
   "outputs": [
    {
     "data": {
      "text/html": [
       "<div>\n",
       "<style scoped>\n",
       "    .dataframe tbody tr th:only-of-type {\n",
       "        vertical-align: middle;\n",
       "    }\n",
       "\n",
       "    .dataframe tbody tr th {\n",
       "        vertical-align: top;\n",
       "    }\n",
       "\n",
       "    .dataframe thead th {\n",
       "        text-align: right;\n",
       "    }\n",
       "</style>\n",
       "<table border=\"1\" class=\"dataframe\">\n",
       "  <thead>\n",
       "    <tr style=\"text-align: right;\">\n",
       "      <th></th>\n",
       "      <th>auction_id</th>\n",
       "      <th>experiment</th>\n",
       "      <th>date</th>\n",
       "      <th>hour</th>\n",
       "      <th>device_make</th>\n",
       "      <th>platform_os</th>\n",
       "      <th>browser</th>\n",
       "      <th>yes</th>\n",
       "      <th>no</th>\n",
       "      <th>awar</th>\n",
       "      <th>aware</th>\n",
       "    </tr>\n",
       "  </thead>\n",
       "  <tbody>\n",
       "    <tr>\n",
       "      <th>2</th>\n",
       "      <td>0016d14a-ae18-4a02-a204-6ba53b52f2ed</td>\n",
       "      <td>exposed</td>\n",
       "      <td>2020-07-05</td>\n",
       "      <td>2</td>\n",
       "      <td>E5823</td>\n",
       "      <td>6</td>\n",
       "      <td>Chrome Mobile WebView</td>\n",
       "      <td>0</td>\n",
       "      <td>1</td>\n",
       "      <td>0</td>\n",
       "      <td>0</td>\n",
       "    </tr>\n",
       "    <tr>\n",
       "      <th>16</th>\n",
       "      <td>008aafdf-deef-4482-8fec-d98e3da054da</td>\n",
       "      <td>exposed</td>\n",
       "      <td>2020-07-04</td>\n",
       "      <td>16</td>\n",
       "      <td>Generic Smartphone</td>\n",
       "      <td>6</td>\n",
       "      <td>Chrome Mobile</td>\n",
       "      <td>1</td>\n",
       "      <td>0</td>\n",
       "      <td>1</td>\n",
       "      <td>1</td>\n",
       "    </tr>\n",
       "    <tr>\n",
       "      <th>20</th>\n",
       "      <td>00a1384a-5118-4d1b-925b-6cdada50318d</td>\n",
       "      <td>exposed</td>\n",
       "      <td>2020-07-06</td>\n",
       "      <td>8</td>\n",
       "      <td>Generic Smartphone</td>\n",
       "      <td>6</td>\n",
       "      <td>Chrome Mobile</td>\n",
       "      <td>0</td>\n",
       "      <td>1</td>\n",
       "      <td>0</td>\n",
       "      <td>0</td>\n",
       "    </tr>\n",
       "    <tr>\n",
       "      <th>23</th>\n",
       "      <td>00b6fadb-10bd-49e3-a778-290da82f7a8d</td>\n",
       "      <td>control</td>\n",
       "      <td>2020-07-08</td>\n",
       "      <td>4</td>\n",
       "      <td>Samsung SM-A202F</td>\n",
       "      <td>6</td>\n",
       "      <td>Facebook</td>\n",
       "      <td>1</td>\n",
       "      <td>0</td>\n",
       "      <td>1</td>\n",
       "      <td>1</td>\n",
       "    </tr>\n",
       "    <tr>\n",
       "      <th>27</th>\n",
       "      <td>00ebf4a8-060f-4b99-93ac-c62724399483</td>\n",
       "      <td>control</td>\n",
       "      <td>2020-07-03</td>\n",
       "      <td>15</td>\n",
       "      <td>Generic Smartphone</td>\n",
       "      <td>6</td>\n",
       "      <td>Chrome Mobile</td>\n",
       "      <td>0</td>\n",
       "      <td>1</td>\n",
       "      <td>0</td>\n",
       "      <td>0</td>\n",
       "    </tr>\n",
       "  </tbody>\n",
       "</table>\n",
       "</div>"
      ],
      "text/plain": [
       "                              auction_id experiment        date  hour  \\\n",
       "2   0016d14a-ae18-4a02-a204-6ba53b52f2ed    exposed  2020-07-05     2   \n",
       "16  008aafdf-deef-4482-8fec-d98e3da054da    exposed  2020-07-04    16   \n",
       "20  00a1384a-5118-4d1b-925b-6cdada50318d    exposed  2020-07-06     8   \n",
       "23  00b6fadb-10bd-49e3-a778-290da82f7a8d    control  2020-07-08     4   \n",
       "27  00ebf4a8-060f-4b99-93ac-c62724399483    control  2020-07-03    15   \n",
       "\n",
       "           device_make  platform_os                browser  yes  no awar aware  \n",
       "2                E5823            6  Chrome Mobile WebView    0   1    0     0  \n",
       "16  Generic Smartphone            6          Chrome Mobile    1   0    1     1  \n",
       "20  Generic Smartphone            6          Chrome Mobile    0   1    0     0  \n",
       "23    Samsung SM-A202F            6               Facebook    1   0    1     1  \n",
       "27  Generic Smartphone            6          Chrome Mobile    0   1    0     0  "
      ]
     },
     "execution_count": 50,
     "metadata": {},
     "output_type": "execute_result"
    }
   ],
   "source": [
    "data_frame['aware'] = data_frame.apply (lambda row: label_awareness(row), axis=1) # apply awareness to each row\n",
    "data_frame.head()"
   ]
  },
  {
   "cell_type": "markdown",
   "id": "65f4be3a",
   "metadata": {},
   "source": [
    "### Change categorical variables to numerical value"
   ]
  },
  {
   "cell_type": "code",
   "execution_count": 52,
   "id": "b37b7229",
   "metadata": {},
   "outputs": [],
   "source": [
    "# change categorical variables to numerical value\n",
    "lb = LabelEncoder()\n",
    "data_frame['experiment'] = lb.fit_transform(data_frame['experiment'])\n",
    "data_frame['browser'] = lb.fit_transform(data_frame['browser'])\n",
    "data_frame['device_make'] = lb.fit_transform(data_frame['device_make'])"
   ]
  },
  {
   "cell_type": "markdown",
   "id": "16e815a3",
   "metadata": {},
   "source": [
    "### Split the dataset to training(90%) and test(10%)\n",
    "The training set will be further divided to training and validation"
   ]
  },
  {
   "cell_type": "code",
   "execution_count": 54,
   "id": "a8b01a41",
   "metadata": {},
   "outputs": [],
   "source": [
    "# separate features and target columns\n",
    "data_x = data_frame.loc[:, data_frame.columns != 'aware']\n",
    "data_y = data_frame['aware']\n",
    "\n",
    "# split the dataset to training and test sets\n",
    "train_ratio = 0.90\n",
    "test_ratio = 0.10\n",
    "x_train, x_test, y_train, y_test = train_test_split(data_x, data_y, test_size=1 - train_ratio)"
   ]
  },
  {
   "cell_type": "markdown",
   "id": "b6c9b7c5",
   "metadata": {},
   "source": [
    "# Logistic Regression"
   ]
  },
  {
   "cell_type": "code",
   "execution_count": null,
   "id": "173de017",
   "metadata": {},
   "outputs": [],
   "source": []
  },
  {
   "cell_type": "code",
   "execution_count": null,
   "id": "b4a14a7e",
   "metadata": {},
   "outputs": [],
   "source": [
    "from sklearn.preprocessing import MinMaxScaler\n",
    "solver_params=['newton-cg', 'lbfgs', 'liblinear', 'sag', 'saga']\n",
    "\n",
    "best_model = get_best_model('Logistic', solver_params)\n",
    "print('Best score: ' , best_model[1],'--->', best_model[2])"
   ]
  },
  {
   "cell_type": "code",
   "execution_count": null,
   "id": "37c3ad5d",
   "metadata": {},
   "outputs": [],
   "source": []
  }
 ],
 "metadata": {
  "kernelspec": {
   "display_name": "Python 3",
   "language": "python",
   "name": "python3"
  },
  "language_info": {
   "codemirror_mode": {
    "name": "ipython",
    "version": 3
   },
   "file_extension": ".py",
   "mimetype": "text/x-python",
   "name": "python",
   "nbconvert_exporter": "python",
   "pygments_lexer": "ipython3",
   "version": "3.9.1"
  }
 },
 "nbformat": 4,
 "nbformat_minor": 5
}
